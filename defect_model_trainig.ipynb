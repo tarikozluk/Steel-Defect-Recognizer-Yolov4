{
  "nbformat": 4,
  "nbformat_minor": 0,
  "metadata": {
    "colab": {
      "provenance": []
    },
    "kernelspec": {
      "name": "python3",
      "display_name": "Python 3"
    },
    "language_info": {
      "name": "python"
    },
    "accelerator": "GPU"
  },
  "cells": [
    {
      "cell_type": "code",
      "execution_count": null,
      "metadata": {
        "id": "Bx2cvDd5qQLA"
      },
      "outputs": [],
      "source": [
        "%cat /etc/lsb-release"
      ]
    },
    {
      "cell_type": "code",
      "source": [
        "!apt-get update "
      ],
      "metadata": {
        "id": "G3DBeEBTrTyi"
      },
      "execution_count": null,
      "outputs": []
    },
    {
      "cell_type": "code",
      "source": [
        "%pwd"
      ],
      "metadata": {
        "id": "JMqiyL5krYwp"
      },
      "execution_count": null,
      "outputs": []
    },
    {
      "cell_type": "code",
      "source": [
        "!unzip \"/content/drive/MyDrive/custom_defect_model/darknet.zip\""
      ],
      "metadata": {
        "id": "UtRkYYXPrZ77"
      },
      "execution_count": null,
      "outputs": []
    },
    {
      "cell_type": "code",
      "source": [
        "%cd /content/darknet"
      ],
      "metadata": {
        "id": "tIuZUl6frj9m"
      },
      "execution_count": null,
      "outputs": []
    },
    {
      "cell_type": "code",
      "source": [
        "%pwd"
      ],
      "metadata": {
        "id": "R0U9VMwcrmrD"
      },
      "execution_count": null,
      "outputs": []
    },
    {
      "cell_type": "code",
      "source": [
        "!sudo apt install dos2unix"
      ],
      "metadata": {
        "id": "r13nkfNMrn5j"
      },
      "execution_count": null,
      "outputs": []
    },
    {
      "cell_type": "code",
      "source": [
        "!find . -type f -print0 | xargs -0 dos2unix"
      ],
      "metadata": {
        "id": "H7NEAGeZru8o"
      },
      "execution_count": null,
      "outputs": []
    },
    {
      "cell_type": "code",
      "source": [
        "!chmod +x /content/darknet"
      ],
      "metadata": {
        "id": "hGzeI6lhryQA"
      },
      "execution_count": null,
      "outputs": []
    },
    {
      "cell_type": "code",
      "source": [
        "!make"
      ],
      "metadata": {
        "id": "3fQng4w2r1dG"
      },
      "execution_count": null,
      "outputs": []
    },
    {
      "cell_type": "code",
      "source": [
        "!./darknet detector test cfg/coco.data cfg/yolov4.cfg yolov4.weights data/dog.jpg"
      ],
      "metadata": {
        "id": "RXCsk2SBsWPW"
      },
      "execution_count": null,
      "outputs": []
    },
    {
      "cell_type": "code",
      "source": [
        "!rm /content/darknet/backup -r"
      ],
      "metadata": {
        "id": "295kxHbPtDaX"
      },
      "execution_count": null,
      "outputs": []
    },
    {
      "cell_type": "code",
      "source": [
        "!ln -s /content/drive/\"My Drive\"/defect_weights/backup /content/darknet"
      ],
      "metadata": {
        "id": "2a7S2Q1PtEuA"
      },
      "execution_count": null,
      "outputs": []
    },
    {
      "cell_type": "code",
      "source": [
        "%pwd"
      ],
      "metadata": {
        "id": "jJzAPgW_tLiU"
      },
      "execution_count": null,
      "outputs": []
    },
    {
      "cell_type": "code",
      "source": [
        "!./darknet detector train defect_data/defect.data defect_yolov4.cfg yolov4.conv.137 -map -dont_show"
      ],
      "metadata": {
        "id": "_mkDKU_TtPqY"
      },
      "execution_count": null,
      "outputs": []
    },
    {
      "cell_type": "code",
      "source": [
        "!./darknet detector train defect_data/defect.data defect_yolov4.cfg /content/drive/\"My Drive\"/defect_weights/backup/defect_yolov4_last.weights -dont_show -map"
      ],
      "metadata": {
        "id": "2RP_KdpvWCh-"
      },
      "execution_count": null,
      "outputs": []
    }
  ]
}